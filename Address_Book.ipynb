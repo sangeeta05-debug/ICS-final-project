{
  "cells": [
    {
      "cell_type": "code",
      "execution_count": null,
      "metadata": {
        "colab": {
          "base_uri": "https://localhost:8080/"
        },
        "id": "iTG9nMy7FZXL",
        "outputId": "04d4561a-aaf2-4206-f51d-8256e3f6304f"
      },
      "outputs": [
        {
          "name": "stdout",
          "output_type": "stream",
          "text": [
            "\n",
            " 1. Add New Contact \n",
            " 2. Search Contact \n",
            " 3. Display Contact \n",
            " 4. Edit Contact \n",
            " 5. Delete Contact \n",
            " 6. Exit\n",
            "\n",
            " Enter your Choice 1\n",
            "\n",
            " Enter the Name Sandy\n",
            " Enter the Mobile Number 766786875656\n",
            "\n",
            " Contact sandy saved successfully\n",
            "\n",
            " 1. Add New Contact \n",
            " 2. Search Contact \n",
            " 3. Display Contact \n",
            " 4. Edit Contact \n",
            " 5. Delete Contact \n",
            " 6. Exit\n",
            "\n",
            " Enter your Choice 6\n"
          ]
        }
      ],
      "source": [
        "#My Address Book Project\n",
        "\n",
        "contact = {}\n",
        "\n",
        "def display_contact():\n",
        "  print(\"--------------------------------------------\")\n",
        "  print(\"Name\\t\\t\\tNumber\")\n",
        "  print(\"--------------------------------------------\")\n",
        "  for key in contact:\n",
        "    print(\"{}\\t\\t\\t{}\".format(key, contact.get(key)))\n",
        "    print(\"--------------------------------------------\")\n",
        " \n",
        "while True:\n",
        "    print(\"\\n 1. Add New Contact \\n 2. Search Contact \\n 3. Display Contact \\n 4. Edit Contact \\n 5. Delete Contact \\n 6. Exit\")\n",
        "    choice = int(input(\"\\n Enter your Choice \"))\n",
        "  \n",
        "    if choice == 1:\n",
        "      name = input(\"\\n Enter the Name \").lower()    \n",
        "      phone = input(\" Enter the Mobile Number \")    \n",
        "      contact[name] = phone\n",
        "      print(\"\\n Contact\", name, \"saved successfully\")\n",
        "\n",
        "    elif choice == 2:\n",
        "      search_name = input(\"\\n Enter the contact Name to search \").lower()   \n",
        "      if search_name in contact:\n",
        "        print(\"\\n \",search_name, \"'s contact number is \", contact[search_name])\n",
        "      else:\n",
        "        print(\"\\n Name not found in the conact book\")\n",
        "\n",
        "    elif choice ==3:\n",
        "      if not contact:\n",
        "        print(\"\\n Contact book is empty\")\n",
        "      else:\n",
        "        display_contact()\n",
        "    \n",
        "    elif choice == 4:\n",
        "      edit_name = input(\"\\n Enter the contact Name to Edit \").lower()   \n",
        "      if edit_name in contact:\n",
        "        phone = input(\" Enter the Mobile Number\")\n",
        "        contact[edit_name] = phone\n",
        "        print(\"\\n Contact Updated\")\n",
        "        display_contact()\n",
        "      else:\n",
        "        print(\"\\n Name not found in the conact book\")\n",
        "\n",
        "    elif choice == 5:\n",
        "      del_name = input(\"\\n Enter the contact Name to Delete \").lower()   \n",
        "      if del_name in contact:\n",
        "        confirm = input(\"\\n Do you want to delete this contact y/n? \").lower() \n",
        "        if confirm == 'y' or confirm == 'Y':\n",
        "          contact.pop(del_name)\n",
        "        display_contact()\n",
        "      else:\n",
        "        print(\"\\n Name not found in the conact book\")        \n",
        "    \n",
        "    else:\n",
        "      break"
      ]
    }
  ],
  "metadata": {
    "colab": {
      "provenance": []
    },
    "kernelspec": {
      "display_name": "Python 3",
      "name": "python3"
    }
  },
  "nbformat": 4,
  "nbformat_minor": 0
}
