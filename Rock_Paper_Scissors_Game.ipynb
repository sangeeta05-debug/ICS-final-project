{
  "cells": [
    {
      "cell_type": "code",
      "execution_count": null,
      "metadata": {
        "id": "GW6QBY-M36eX"
      },
      "outputs": [],
      "source": [
        "#My first Game Project on Python => Stone, Paper, Scissors\n",
        "\n",
        "# First import the random generator\n",
        "import random\n",
        "\n",
        "#FIrst create the list of play options\n",
        "possible_choices = [\"rock\", \"paper\", \"scissors\"]\n",
        "\n",
        "while True:\n",
        "    user_input = input(\"\\nEnter your choice (rock, paper, scissors): \").lower()\n",
        "    computer_choice = random.choice(possible_choices)\n",
        "    print(f\"\\nYou chose {user_input}, computer chose {computer_choice}.\\n\")\n",
        "\n",
        "    if user_input == computer_choice:\n",
        "        print(f\"Both players selected {user_input}. It's a tie!\")\n",
        "\n",
        "    elif user_input == \"rock\":\n",
        "        if computer_choice == \"scissors\":\n",
        "            print(\"Rock smashes scissors! You win!\")\n",
        "        else:\n",
        "            print(\"Paper covers rock! You lose.\")\n",
        "\n",
        "    elif user_input == \"paper\":\n",
        "        if computer_choice == \"rock\":\n",
        "            print(\"Paper covers rock! You win!\")\n",
        "        else:\n",
        "            print(\"Scissors cuts paper! You lose.\")\n",
        "\n",
        "    elif user_input == \"scissors\":\n",
        "        if computer_choice == \"paper\":\n",
        "            print(\"Scissors cuts paper! You win!\")\n",
        "        else:\n",
        "            print(\"Rock smashes scissors! You lose.\")\n",
        "\n",
        "    play_again = input(\"\\nPlay again? (y/n): \").lower()\n",
        "    if play_again != \"y\":\n",
        "        break\n"
      ]
    },
    {
      "cell_type": "markdown",
      "metadata": {
        "id": "rh_7Gew0ol9N"
      },
      "source": []
    }
  ],
  "metadata": {
    "colab": {
      "provenance": []
    },
    "kernelspec": {
      "display_name": "Python 3",
      "name": "python3"
    }
  },
  "nbformat": 4,
  "nbformat_minor": 0
}
